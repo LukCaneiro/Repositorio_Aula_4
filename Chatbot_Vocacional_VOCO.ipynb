{
  "nbformat": 4,
  "nbformat_minor": 0,
  "metadata": {
    "colab": {
      "provenance": [],
      "authorship_tag": "ABX9TyMgGUN11x4gFVkZ3MkOFFxf",
      "include_colab_link": true
    },
    "kernelspec": {
      "name": "python3",
      "display_name": "Python 3"
    },
    "language_info": {
      "name": "python"
    }
  },
  "cells": [
    {
      "cell_type": "markdown",
      "metadata": {
        "id": "view-in-github",
        "colab_type": "text"
      },
      "source": [
        "<a href=\"https://colab.research.google.com/github/LukCaneiro/Repositorio_Aula_4/blob/main/Chatbot_Vocacional_VOCO.ipynb\" target=\"_parent\"><img src=\"https://colab.research.google.com/assets/colab-badge.svg\" alt=\"Open In Colab\"/></a>"
      ]
    },
    {
      "cell_type": "code",
      "execution_count": null,
      "metadata": {
        "id": "qvJPz9WIvY6T"
      },
      "outputs": [],
      "source": [
        "!pip install -q -U google-generativeai"
      ]
    },
    {
      "cell_type": "markdown",
      "source": [
        "Lembre-se de colocar sua API Key"
      ],
      "metadata": {
        "id": "xxlY6ISOnK-V"
      }
    },
    {
      "cell_type": "code",
      "source": [
        "# Import the Python SDK\n",
        "import google.generativeai as genai\n",
        "from google.colab import userdata\n",
        "api_key = userdata.get('COLE_AQUI_SUA_API_KEY')\n",
        "genai.configure(api_key=api_key)"
      ],
      "metadata": {
        "id": "OGewxigrvwT0"
      },
      "execution_count": null,
      "outputs": []
    },
    {
      "cell_type": "markdown",
      "source": [
        "Listar os modelos disponíveis"
      ],
      "metadata": {
        "id": "BcQ89oLsv-0n"
      }
    },
    {
      "cell_type": "code",
      "source": [
        "for m in genai.list_models():\n",
        "  if 'generateContent' in m.supported_generation_methods:\n",
        "    print(m.name)"
      ],
      "metadata": {
        "colab": {
          "base_uri": "https://localhost:8080/",
          "height": 139
        },
        "id": "Am0aq85jxH_9",
        "outputId": "fff11758-5cd1-4202-9624-fd31e2379f12"
      },
      "execution_count": null,
      "outputs": [
        {
          "output_type": "stream",
          "name": "stdout",
          "text": [
            "models/gemini-1.0-pro\n",
            "models/gemini-1.0-pro-001\n",
            "models/gemini-1.0-pro-latest\n",
            "models/gemini-1.0-pro-vision-latest\n",
            "models/gemini-1.5-pro-latest\n",
            "models/gemini-pro\n",
            "models/gemini-pro-vision\n"
          ]
        }
      ]
    },
    {
      "cell_type": "code",
      "source": [
        "generation_config = {\n",
        "    \"candidate_count\": 1,\n",
        "    \"temperature\": 0.3\n",
        "}"
      ],
      "metadata": {
        "id": "-j86Lnfaym5-"
      },
      "execution_count": null,
      "outputs": []
    },
    {
      "cell_type": "code",
      "source": [
        "safety_settings = {\n",
        "    \"HARASSMENT\": \"BLOCK_MEDIUM_AND_ABOVE\",\n",
        "    \"HATE\": \"BLOCK_MEDIUM_AND_ABOVE\",\n",
        "    \"SEXUAL\": \"BLOCK_MEDIUM_AND_ABOVE\",\n",
        "    \"DANGEROUS\": \"BLOCK_MEDIUM_AND_ABOVE\",\n",
        "}"
      ],
      "metadata": {
        "id": "lGC_Nan0zm9P"
      },
      "execution_count": null,
      "outputs": []
    },
    {
      "cell_type": "markdown",
      "source": [
        "Inicializando o modelo"
      ],
      "metadata": {
        "id": "aVGL_KwO1FIx"
      }
    },
    {
      "cell_type": "code",
      "source": [
        "model = genai.GenerativeModel(model_name=\"gemini-1.0-pro\",\n",
        "                              generation_config=generation_config,\n",
        "                              safety_settings=safety_settings)\n"
      ],
      "metadata": {
        "id": "iH59grH81G6N"
      },
      "execution_count": null,
      "outputs": []
    },
    {
      "cell_type": "code",
      "source": [
        "response = model.generate_content(\"liste vocações para uma pessoa considerando: que gosta de atividades relacionadas a Pesquisa, diagnóstico ou crítica. Imagina um emprego ideal em que Contribui com a sociedade. Tenha o perfil de Intelectual\")\n",
        "print(response.text)"
      ],
      "metadata": {
        "id": "NKinQwzr4KyD",
        "colab": {
          "base_uri": "https://localhost:8080/",
          "height": 260
        },
        "outputId": "82aff3fc-2ffd-445a-ebe3-f5142adca340"
      },
      "execution_count": null,
      "outputs": [
        {
          "output_type": "stream",
          "name": "stdout",
          "text": [
            "**Vocações para Pessoas com Interesse em Pesquisa, Diagnóstico e Crítica**\n",
            "\n",
            "* **Pesquisador Acadêmico:** Conduz pesquisas originais em diversas áreas, como ciências, humanidades e ciências sociais.\n",
            "* **Analista de Pesquisa:** Coleta, analisa e interpreta dados para fornecer insights e recomendações.\n",
            "* **Jornalista Investigativo:** Investiga e relata histórias complexas e controversas, expondo a corrupção e a injustiça.\n",
            "* **Crítico Literário:** Analisa e avalia obras literárias, fornecendo insights sobre seus temas, estilo e impacto.\n",
            "* **Crítico de Arte:** Analisa e avalia obras de arte, fornecendo insights sobre seus conceitos, técnicas e significado.\n",
            "* **Crítico de Cinema:** Analisa e avalia filmes, fornecendo insights sobre seus temas, estilo e impacto.\n",
            "* **Médico Legista:** Investiga mortes suspeitas ou inesperadas para determinar a causa da morte.\n",
            "* **Psicólogo Clínico:** Diagnostica e trata transtornos mentais, fornecendo terapia e apoio.\n",
            "* **Sociólogo:** Estuda a sociedade e as interações humanas, fornecendo insights sobre questões sociais e culturais.\n",
            "* **Antropólogo:** Estuda culturas e sociedades humanas, fornecendo insights sobre suas crenças, valores e práticas.\n",
            "* **Historiador:** Pesquisa e interpreta eventos passados, fornecendo insights sobre o presente e o futuro.\n",
            "* **Arquivista:** Preserva e organiza documentos e registros históricos, fornecendo acesso a informações valiosas.\n"
          ]
        }
      ]
    },
    {
      "cell_type": "code",
      "source": [
        "chat = model.start_chat(history=[])"
      ],
      "metadata": {
        "id": "3Fak8hMk5WH7"
      },
      "execution_count": null,
      "outputs": []
    },
    {
      "cell_type": "markdown",
      "source": [
        "Tentei fazer o meu melhor, mas não tenho prática e muito contato com a programação. As questões e alternativas usadas foram copiadas do Teste Vocaional do site Guia de Carreira, usei apenas 3 questões das 15, para que não ficasse tão complexo para a IA, tentei selecionar aquelas que fossem mais sucintas."
      ],
      "metadata": {
        "id": "Sh988Xrp_xT1"
      }
    },
    {
      "cell_type": "code",
      "source": [
        "print(\"VOCO:       Olá sou o VOCO, seu assitente vocacional. Por favor, insira seu nome: \")\n",
        "print(\"\\n\")\n",
        "nome_usuario = input(\"seu nome:   \")\n",
        "\n",
        "print(\"\\n\")\n",
        "print(f\"VOCO:       É um prazer poder te auxiliar, {nome_usuario}, me conte, quais das seguintes atividades mais te atraem?\")\n",
        "print(\"\\n\")\n",
        "print(\"•Estratégia, compra e venda\")\n",
        "print(\"•Criação, expressão ou beleza\")\n",
        "print(\"•Planejamento, ordenação ou cálculo\")\n",
        "print(\"•Relacionamento, cuidado ou mediação interpessoal\")\n",
        "print(\"•Pesquisa, diagnóstico ou crítica\")\n",
        "print(\"•Maquinas, atividade corporal, alimentos, plantas ou animais\")\n",
        "print(\"\\n\")\n",
        "atividades = input(f\"{nome_usuario}:    \")\n",
        "print(\"\\n\")\n",
        "\n",
        "print(\"VOCO:     O emprego ideal é aquele no qual você:\")\n",
        "print(\"\\n\")\n",
        "print(\"•Surpreende ou emociona as pessoas\")\n",
        "print(\"•Traz segurança\")\n",
        "print(\"•Pode colocar a mão na massa\")\n",
        "print('•Possui desafios')\n",
        "print('•Aprende muito')\n",
        "print(\"•Contribui com a sociedade\")\n",
        "print(\"\\n\")\n",
        "ideal = input(f\"{nome_usuario}:   \")\n",
        "print(\"\\n\")\n",
        "\n",
        "print(\"VOCO:    Como seus amigos o descreveriam?\")\n",
        "print(\"\\n\")\n",
        "print(\"•Cauteloso\")\n",
        "print('•Empático')\n",
        "print('•Sensível')\n",
        "print('•Realista')\n",
        "print('•Persuasivo')\n",
        "print('•Intelectual')\n",
        "print(\"\\n\")\n",
        "perfil = input(f\"{nome_usuario}:    \")\n",
        "print(\"\\n\")\n",
        "\n",
        "\n",
        "print(f'VOCO:   Certo, vou levar suas respostas em consideração, {nome_usuario}')\n",
        "print(\"\\n\")\n",
        "response = chat.send_message(f\"liste vocações para uma pessoa considerando: que gosta de atividades relacionadas a {atividades}. Imagina um emprego ideal em que {ideal}. Tenha o perfil de {perfil}\")\n",
        "print(\"VOCO:     \"+response.text)\n",
        "\n",
        "print(\"\\n\")\n",
        "print(\"VOCO:     Você tem alguma dúvida? Se não tiver mais nada em que eu possa te ajudar digite fim\")\n",
        "print(\"\\n\")\n",
        "print(f\"{nome_usuario}:    \")\n",
        "duvida = input()\n",
        "print(\"\\n\")\n",
        "\n",
        "while duvida != \"fim\":\n",
        "  response_duvida = chat.send_message(duvida)\n",
        "  print(\"VOCO:       \")\n",
        "  print(response_duvida)\n",
        "  print(\"\\n\")\n",
        "  print(\"VOCO:     Você tem mais alguma dúvida? Se não tiver mais nada em que eu possa te ajudar digite fim\")\n",
        "  print(\"\\n\")\n",
        "  print(f\"{nome_usuario}:    \")\n",
        "  print(\"\\n\")\n",
        "  duvida = input()"
      ],
      "metadata": {
        "id": "SHHOU3j_5xhB",
        "colab": {
          "base_uri": "https://localhost:8080/",
          "height": 1000
        },
        "outputId": "38cb206d-61ed-4ec8-9ff9-3cea94d47e97"
      },
      "execution_count": null,
      "outputs": [
        {
          "name": "stdout",
          "output_type": "stream",
          "text": [
            "VOCO:       Olá sou o VOCO, seu assitente vocacional. Por favor, insira seu nome: \n",
            "\n",
            "\n",
            "seu nome:   Lucas\n",
            "\n",
            "\n",
            "VOCO:       É um prazer poder te auxiliar, Lucas, me conte, quais das seguintes atividades mais te atraem?\n",
            "\n",
            "\n",
            "•Estratégia, compra e venda\n",
            "•Criação, expressão ou beleza\n",
            "•Planejamento, ordenação ou cálculo\n",
            "•Relacionamento, cuidado ou mediação interpessoal\n",
            "•Pesquisa, diagnóstico ou crítica\n",
            "•Maquinas, atividade corporal, alimentos, plantas ou animais\n",
            "\n",
            "\n",
            "Lucas:    Estratégia, compra e venda\n",
            "\n",
            "\n",
            "VOCO:     O emprego ideal é aquele no qual você:\n",
            "\n",
            "\n",
            "•Surpreende ou emociona as pessoas\n",
            "•Traz segurança\n",
            "•Pode colocar a mão na massa\n",
            "•Possui desafios\n",
            "•Aprende muito\n",
            "•Contribui com a sociedade\n",
            "\n",
            "\n",
            "Lucas:   Traz segurança\n",
            "\n",
            "\n",
            "VOCO:    Como seus amigos o descreveriam?\n",
            "\n",
            "\n",
            "•Cauteloso\n",
            "•Empático\n",
            "•Sensível\n",
            "•Realista\n",
            "•Persuasivo\n",
            "•Intelectual\n",
            "\n",
            "\n",
            "Lucas:    Cauteloso\n",
            "\n",
            "\n",
            "VOCO:   Certo, vou levar suas respostas em consideração, Lucas\n",
            "\n",
            "\n",
            "VOCO:     **Vocações para uma Pessoa Cautelosa que Gosta de Estratégia e Compra e Venda**\n",
            "\n",
            "**Finanças**\n",
            "* Analista Financeiro\n",
            "* Gerente de Investimentos\n",
            "* Consultor Financeiro\n",
            "* Corretor de Valores Mobiliários\n",
            "* Analista de Risco\n",
            "\n",
            "**Gestão de Negócios**\n",
            "* Gerente de Estratégia\n",
            "* Gerente de Desenvolvimento de Negócios\n",
            "* Gerente de Operações\n",
            "* Gerente de Projetos\n",
            "* Consultor de Gestão\n",
            "\n",
            "**Logística e Cadeia de Suprimentos**\n",
            "* Gerente de Cadeia de Suprimentos\n",
            "* Gerente de Compras\n",
            "* Gerente de Logística\n",
            "* Analista de Dados de Cadeia de Suprimentos\n",
            "* Planejador de Demanda\n",
            "\n",
            "**Investimentos Imobiliários**\n",
            "* Corretor de Imóveis\n",
            "* Analista de Investimentos Imobiliários\n",
            "* Gerente de Propriedade\n",
            "* Investidor Imobiliário\n",
            "* Desenvolvedor Imobiliário\n",
            "\n",
            "**Seguros**\n",
            "* Atuário\n",
            "* Subscritor de Seguros\n",
            "* Corretor de Seguros\n",
            "* Gerente de Risco de Seguros\n",
            "* Analista de Fraudes de Seguros\n",
            "\n",
            "**Outras Vocações**\n",
            "* Analista de Inteligência de Negócios\n",
            "* Pesquisador de Mercado\n",
            "* Analista de Dados\n",
            "* Economista\n",
            "* Contador\n",
            "\n",
            "\n",
            "VOCO:     Você tem alguma dúvida? Se não tiver mais nada em que eu possa te ajudar digite fim\n",
            "\n",
            "\n",
            "Lucas:    \n",
            "Como posso me tornar um Economista?\n",
            "\n",
            "\n",
            "VOCO:       \n",
            "response:\n",
            "GenerateContentResponse(\n",
            "    done=True,\n",
            "    iterator=None,\n",
            "    result=glm.GenerateContentResponse({'candidates': [{'content': {'parts': [{'text': '**Passos para se Tornar um Economista**\\n\\n**1. Obtenha um Bacharelado**\\n\\n* Faça um bacharelado em economia, econometria ou um campo relacionado.\\n* Os cursos essenciais incluem microeconomia, macroeconomia, econometria, estatística e matemática.\\n\\n**2. Ganhe Experiência**\\n\\n* Participe de estágios ou programas de pesquisa relacionados à economia.\\n* Trabalhe como assistente de pesquisa ou analista de dados.\\n\\n**3. Considere um Mestrado ou Doutorado**\\n\\n* Um mestrado em economia é geralmente necessário para cargos de nível básico.\\n* Um doutorado é necessário para cargos de pesquisa e ensino.\\n\\n**4. Desenvolva Habilidades**\\n\\n* Desenvolva fortes habilidades analíticas, quantitativas e de comunicação.\\n* Aprenda a usar software estatístico e econométrico.\\n* Mantenha-se atualizado com as tendências econômicas atuais.\\n\\n**5. Obtenha Certificações**\\n\\n* Obtenha certificações profissionais, como o Chartered Financial Analyst (CFA) ou o Certified Business Economist (CBE).\\n\\n**6. Construa uma Rede**\\n\\n* Participe de conferências e eventos do setor.\\n* Conecte-se com economistas e profissionais relacionados no LinkedIn e outras plataformas de rede.\\n\\n**7. Explore Carreiras**\\n\\n* Explore diferentes carreiras em economia, como:\\n    * Economista do governo\\n    * Economista empresarial\\n    * Economista acadêmico\\n    * Economista de pesquisa\\n    * Analista financeiro\\n\\n**Dicas Adicionais**\\n\\n* Mantenha um GPA alto em seus estudos.\\n* Publique artigos em periódicos acadêmicos ou profissionais.\\n* Apresente seu trabalho em conferências.\\n* Seja proativo na busca de oportunidades de experiência.\\n* Esteja preparado para trabalhar longas horas, especialmente durante os prazos.'}], 'role': 'model'}, 'finish_reason': 1, 'index': 0, 'safety_ratings': [{'category': 9, 'probability': 1, 'blocked': False}, {'category': 8, 'probability': 1, 'blocked': False}, {'category': 7, 'probability': 1, 'blocked': False}, {'category': 10, 'probability': 1, 'blocked': False}], 'token_count': 0, 'grounding_attributions': []}]}),\n",
            ")\n",
            "\n",
            "\n",
            "VOCO:     Você tem mais alguma dúvida? Se não tiver mais nada em que eu possa te ajudar digite fim\n",
            "\n",
            "\n",
            "Lucas:    \n",
            "\n",
            "\n",
            "fim\n"
          ]
        }
      ]
    },
    {
      "cell_type": "code",
      "source": [
        "chat"
      ],
      "metadata": {
        "id": "6a8weaQBlHhI",
        "colab": {
          "base_uri": "https://localhost:8080/"
        },
        "outputId": "dc787f76-a854-44a3-8b15-7693ead97962"
      },
      "execution_count": null,
      "outputs": [
        {
          "output_type": "execute_result",
          "data": {
            "text/plain": [
              "ChatSession(\n",
              "    model=genai.GenerativeModel(\n",
              "        model_name='models/gemini-1.0-pro',\n",
              "        generation_config={'candidate_count': 1, 'temperature': 0.3},\n",
              "        safety_settings={<HarmCategory.HARM_CATEGORY_HARASSMENT: 7>: <HarmBlockThreshold.BLOCK_MEDIUM_AND_ABOVE: 2>, <HarmCategory.HARM_CATEGORY_HATE_SPEECH: 8>: <HarmBlockThreshold.BLOCK_MEDIUM_AND_ABOVE: 2>, <HarmCategory.HARM_CATEGORY_SEXUALLY_EXPLICIT: 9>: <HarmBlockThreshold.BLOCK_MEDIUM_AND_ABOVE: 2>, <HarmCategory.HARM_CATEGORY_DANGEROUS_CONTENT: 10>: <HarmBlockThreshold.BLOCK_MEDIUM_AND_ABOVE: 2>},\n",
              "        tools=None,\n",
              "        system_instruction=None,\n",
              "    ),\n",
              "    history=[glm.Content({'parts': [{'text': 'liste vocaçõ... de Cauteloso'}], 'role': 'user'}), glm.Content({'parts': [{'text': '**Vocações p...a\\n* Contador'}], 'role': 'model'}), glm.Content({'parts': [{'text': 'Como posso m...m Economista?'}], 'role': 'user'}), glm.Content({'parts': [{'text': '**Passos par...te os prazos.'}], 'role': 'model'})]\n",
              ")"
            ]
          },
          "metadata": {},
          "execution_count": 130
        }
      ]
    },
    {
      "cell_type": "code",
      "source": [
        "chat.history"
      ],
      "metadata": {
        "id": "SbKxYCxnlKhr",
        "colab": {
          "base_uri": "https://localhost:8080/"
        },
        "outputId": "959dd72b-d77c-4be9-9adf-af3880154670"
      },
      "execution_count": null,
      "outputs": [
        {
          "output_type": "execute_result",
          "data": {
            "text/plain": [
              "[parts {\n",
              "   text: \"liste voca\\303\\247\\303\\265es para uma pessoa considerando: que gosta de atividades relacionadas a Estrat\\303\\251gia, compra e venda. Imagina um emprego ideal em que Traz seguran\\303\\247a. Tenha o perfil de Cauteloso\"\n",
              " }\n",
              " role: \"user\",\n",
              " parts {\n",
              "   text: \"**Voca\\303\\247\\303\\265es para uma Pessoa Cautelosa que Gosta de Estrat\\303\\251gia e Compra e Venda**\\n\\n**Finan\\303\\247as**\\n* Analista Financeiro\\n* Gerente de Investimentos\\n* Consultor Financeiro\\n* Corretor de Valores Mobili\\303\\241rios\\n* Analista de Risco\\n\\n**Gest\\303\\243o de Neg\\303\\263cios**\\n* Gerente de Estrat\\303\\251gia\\n* Gerente de Desenvolvimento de Neg\\303\\263cios\\n* Gerente de Opera\\303\\247\\303\\265es\\n* Gerente de Projetos\\n* Consultor de Gest\\303\\243o\\n\\n**Log\\303\\255stica e Cadeia de Suprimentos**\\n* Gerente de Cadeia de Suprimentos\\n* Gerente de Compras\\n* Gerente de Log\\303\\255stica\\n* Analista de Dados de Cadeia de Suprimentos\\n* Planejador de Demanda\\n\\n**Investimentos Imobili\\303\\241rios**\\n* Corretor de Im\\303\\263veis\\n* Analista de Investimentos Imobili\\303\\241rios\\n* Gerente de Propriedade\\n* Investidor Imobili\\303\\241rio\\n* Desenvolvedor Imobili\\303\\241rio\\n\\n**Seguros**\\n* Atu\\303\\241rio\\n* Subscritor de Seguros\\n* Corretor de Seguros\\n* Gerente de Risco de Seguros\\n* Analista de Fraudes de Seguros\\n\\n**Outras Voca\\303\\247\\303\\265es**\\n* Analista de Intelig\\303\\252ncia de Neg\\303\\263cios\\n* Pesquisador de Mercado\\n* Analista de Dados\\n* Economista\\n* Contador\"\n",
              " }\n",
              " role: \"model\",\n",
              " parts {\n",
              "   text: \"Como posso me tornar um Economista?\"\n",
              " }\n",
              " role: \"user\",\n",
              " parts {\n",
              "   text: \"**Passos para se Tornar um Economista**\\n\\n**1. Obtenha um Bacharelado**\\n\\n* Fa\\303\\247a um bacharelado em economia, econometria ou um campo relacionado.\\n* Os cursos essenciais incluem microeconomia, macroeconomia, econometria, estat\\303\\255stica e matem\\303\\241tica.\\n\\n**2. Ganhe Experi\\303\\252ncia**\\n\\n* Participe de est\\303\\241gios ou programas de pesquisa relacionados \\303\\240 economia.\\n* Trabalhe como assistente de pesquisa ou analista de dados.\\n\\n**3. Considere um Mestrado ou Doutorado**\\n\\n* Um mestrado em economia \\303\\251 geralmente necess\\303\\241rio para cargos de n\\303\\255vel b\\303\\241sico.\\n* Um doutorado \\303\\251 necess\\303\\241rio para cargos de pesquisa e ensino.\\n\\n**4. Desenvolva Habilidades**\\n\\n* Desenvolva fortes habilidades anal\\303\\255ticas, quantitativas e de comunica\\303\\247\\303\\243o.\\n* Aprenda a usar software estat\\303\\255stico e econom\\303\\251trico.\\n* Mantenha-se atualizado com as tend\\303\\252ncias econ\\303\\264micas atuais.\\n\\n**5. Obtenha Certifica\\303\\247\\303\\265es**\\n\\n* Obtenha certifica\\303\\247\\303\\265es profissionais, como o Chartered Financial Analyst (CFA) ou o Certified Business Economist (CBE).\\n\\n**6. Construa uma Rede**\\n\\n* Participe de confer\\303\\252ncias e eventos do setor.\\n* Conecte-se com economistas e profissionais relacionados no LinkedIn e outras plataformas de rede.\\n\\n**7. Explore Carreiras**\\n\\n* Explore diferentes carreiras em economia, como:\\n    * Economista do governo\\n    * Economista empresarial\\n    * Economista acad\\303\\252mico\\n    * Economista de pesquisa\\n    * Analista financeiro\\n\\n**Dicas Adicionais**\\n\\n* Mantenha um GPA alto em seus estudos.\\n* Publique artigos em peri\\303\\263dicos acad\\303\\252micos ou profissionais.\\n* Apresente seu trabalho em confer\\303\\252ncias.\\n* Seja proativo na busca de oportunidades de experi\\303\\252ncia.\\n* Esteja preparado para trabalhar longas horas, especialmente durante os prazos.\"\n",
              " }\n",
              " role: \"model\"]"
            ]
          },
          "metadata": {},
          "execution_count": 131
        }
      ]
    },
    {
      "cell_type": "code",
      "source": [
        "# Melhorando a visualização\n",
        "# Código disponível em https://ai.google.dev/tutorials/python/quickstart#import_packages\n",
        "import textwrap\n",
        "from IPython.display import display\n",
        "from IPython.display import Markdown\n",
        "\n",
        "def to_markdown(text):\n",
        "  text = text.replace('•',' *')\n",
        "  return Markdown(textwrap.indent(text, '> ', predicate=lambda _: True))\n",
        "\n",
        "# Imprimindo o histórico\n",
        "for message in chat.history:\n",
        "  display(to_markdown(f\"**{message.role}**: {message.parts[0].text}\"))\n",
        "  print('---------------------------------------------')"
      ],
      "metadata": {
        "id": "VjVjYxVRlNmC",
        "colab": {
          "base_uri": "https://localhost:8080/",
          "height": 1000
        },
        "outputId": "7079dbf7-f1d8-4ebd-9da6-64c633e34bf7"
      },
      "execution_count": null,
      "outputs": [
        {
          "output_type": "display_data",
          "data": {
            "text/plain": [
              "<IPython.core.display.Markdown object>"
            ],
            "text/markdown": "> **user**: liste vocações para uma pessoa considerando: que gosta de atividades relacionadas a Estratégia, compra e venda. Imagina um emprego ideal em que Traz segurança. Tenha o perfil de Cauteloso"
          },
          "metadata": {}
        },
        {
          "output_type": "stream",
          "name": "stdout",
          "text": [
            "---------------------------------------------\n"
          ]
        },
        {
          "output_type": "display_data",
          "data": {
            "text/plain": [
              "<IPython.core.display.Markdown object>"
            ],
            "text/markdown": "> **model**: **Vocações para uma Pessoa Cautelosa que Gosta de Estratégia e Compra e Venda**\n> \n> **Finanças**\n> * Analista Financeiro\n> * Gerente de Investimentos\n> * Consultor Financeiro\n> * Corretor de Valores Mobiliários\n> * Analista de Risco\n> \n> **Gestão de Negócios**\n> * Gerente de Estratégia\n> * Gerente de Desenvolvimento de Negócios\n> * Gerente de Operações\n> * Gerente de Projetos\n> * Consultor de Gestão\n> \n> **Logística e Cadeia de Suprimentos**\n> * Gerente de Cadeia de Suprimentos\n> * Gerente de Compras\n> * Gerente de Logística\n> * Analista de Dados de Cadeia de Suprimentos\n> * Planejador de Demanda\n> \n> **Investimentos Imobiliários**\n> * Corretor de Imóveis\n> * Analista de Investimentos Imobiliários\n> * Gerente de Propriedade\n> * Investidor Imobiliário\n> * Desenvolvedor Imobiliário\n> \n> **Seguros**\n> * Atuário\n> * Subscritor de Seguros\n> * Corretor de Seguros\n> * Gerente de Risco de Seguros\n> * Analista de Fraudes de Seguros\n> \n> **Outras Vocações**\n> * Analista de Inteligência de Negócios\n> * Pesquisador de Mercado\n> * Analista de Dados\n> * Economista\n> * Contador"
          },
          "metadata": {}
        },
        {
          "output_type": "stream",
          "name": "stdout",
          "text": [
            "---------------------------------------------\n"
          ]
        },
        {
          "output_type": "display_data",
          "data": {
            "text/plain": [
              "<IPython.core.display.Markdown object>"
            ],
            "text/markdown": "> **user**: Como posso me tornar um Economista?"
          },
          "metadata": {}
        },
        {
          "output_type": "stream",
          "name": "stdout",
          "text": [
            "---------------------------------------------\n"
          ]
        },
        {
          "output_type": "display_data",
          "data": {
            "text/plain": [
              "<IPython.core.display.Markdown object>"
            ],
            "text/markdown": "> **model**: **Passos para se Tornar um Economista**\n> \n> **1. Obtenha um Bacharelado**\n> \n> * Faça um bacharelado em economia, econometria ou um campo relacionado.\n> * Os cursos essenciais incluem microeconomia, macroeconomia, econometria, estatística e matemática.\n> \n> **2. Ganhe Experiência**\n> \n> * Participe de estágios ou programas de pesquisa relacionados à economia.\n> * Trabalhe como assistente de pesquisa ou analista de dados.\n> \n> **3. Considere um Mestrado ou Doutorado**\n> \n> * Um mestrado em economia é geralmente necessário para cargos de nível básico.\n> * Um doutorado é necessário para cargos de pesquisa e ensino.\n> \n> **4. Desenvolva Habilidades**\n> \n> * Desenvolva fortes habilidades analíticas, quantitativas e de comunicação.\n> * Aprenda a usar software estatístico e econométrico.\n> * Mantenha-se atualizado com as tendências econômicas atuais.\n> \n> **5. Obtenha Certificações**\n> \n> * Obtenha certificações profissionais, como o Chartered Financial Analyst (CFA) ou o Certified Business Economist (CBE).\n> \n> **6. Construa uma Rede**\n> \n> * Participe de conferências e eventos do setor.\n> * Conecte-se com economistas e profissionais relacionados no LinkedIn e outras plataformas de rede.\n> \n> **7. Explore Carreiras**\n> \n> * Explore diferentes carreiras em economia, como:\n>     * Economista do governo\n>     * Economista empresarial\n>     * Economista acadêmico\n>     * Economista de pesquisa\n>     * Analista financeiro\n> \n> **Dicas Adicionais**\n> \n> * Mantenha um GPA alto em seus estudos.\n> * Publique artigos em periódicos acadêmicos ou profissionais.\n> * Apresente seu trabalho em conferências.\n> * Seja proativo na busca de oportunidades de experiência.\n> * Esteja preparado para trabalhar longas horas, especialmente durante os prazos."
          },
          "metadata": {}
        },
        {
          "output_type": "stream",
          "name": "stdout",
          "text": [
            "---------------------------------------------\n"
          ]
        }
      ]
    }
  ]
}